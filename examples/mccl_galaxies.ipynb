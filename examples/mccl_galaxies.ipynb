{
 "cells": [
  {
   "cell_type": "code",
   "execution_count": 1,
   "metadata": {},
   "outputs": [],
   "source": [
    "import numpy as np\n",
    "from astropy.table import Table\n",
    "from matplotlib import pyplot as plt\n",
    "from matplotlib import rc\n",
    "\n",
    "rc('text', usetex=True)\n",
    "rc('font', family='serif')\n",
    "rc('font', size=14)"
   ]
  },
  {
   "cell_type": "markdown",
   "metadata": {},
   "source": [
    "## MCCL red galaxies"
   ]
  },
  {
   "cell_type": "markdown",
   "metadata": {},
   "source": [
    "This example runs a number of SkyPy modules to create a catalogue of galaxies using our implementation of the MCCL model of [Herbel et al (2018)](https://arxiv.org/abs/1801.07615) and [Kacprzak et al (2020)](https://arxiv.org/abs/1906.01018).\n",
    "\n",
    "Running the `mccl_galaxies` example:\n",
    "```bash\n",
    "$ skypy mccl_galaxies.yml --format fits\n",
    "```\n",
    "generates an output catalogue for us to load in:"
   ]
  },
  {
   "cell_type": "code",
   "execution_count": 2,
   "metadata": {},
   "outputs": [],
   "source": [
    "red_galaxies = Table.read('red_galaxies.fits')"
   ]
  },
  {
   "cell_type": "code",
   "execution_count": 3,
   "metadata": {},
   "outputs": [
    {
     "name": "stdout",
     "output_type": "stream",
     "text": [
      "<Table length=37399>\n",
      "         name          dtype  shape unit\n",
      "--------------------- ------- ----- ----\n",
      "             redshift float64           \n",
      "            magnitude float64           \n",
      "        physical_size float64        kpc\n",
      "          ellipticity float64           \n",
      "         angular_size float64        rad\n",
      "spectral_coefficients float64  (5,)     \n",
      "\n"
     ]
    }
   ],
   "source": [
    "print(red_galaxies.info)"
   ]
  },
  {
   "cell_type": "markdown",
   "metadata": {},
   "source": [
    "We have asked to generate a table containing a number of columns for objects called red galaxies. Here we make a quick visual check of the columns.\n",
    "\n",
    "We have asked for redshifts and magnitudes over the given redshift range and magnitude limit:\n",
    "\n",
    "```yaml\n",
    "z_range: !numpy.arange [0, 2.01, 0.1]\n",
    "mag_lim: 30\n",
    "\n",
    "red_galaxies:\n",
    "    redshift, magnitude: !skypy.galaxy.schechter_lf\n",
    "      redshift: $z_range\n",
    "      M_star: $M_star_red\n",
    "      phi_star: $phi_star_red\n",
    "      alpha: $alpha_red\n",
    "      m_lim: $mag_lim\n",
    "      fsky: $fsky\n",
    "```"
   ]
  },
  {
   "cell_type": "code",
   "execution_count": 4,
   "metadata": {},
   "outputs": [
    {
     "data": {
      "text/plain": [
       "Text(0, 0.5, '$m$')"
      ]
     },
     "execution_count": 4,
     "metadata": {},
     "output_type": "execute_result"
    },
    {
     "data": {
      "image/png": "[encoded data removed]",
      "text/plain": [
       "<Figure size 432x288 with 1 Axes>"
      ]
     },
     "metadata": {
      "needs_background": "light"
     },
     "output_type": "display_data"
    }
   ],
   "source": [
    "plt.figure()\n",
    "plt.hist2d(red_galaxies['redshift'], red_galaxies['magnitude'], bins=50)\n",
    "plt.xlabel('$z$')\n",
    "plt.ylabel('$m$')"
   ]
  },
  {
   "cell_type": "code",
   "execution_count": 5,
   "metadata": {},
   "outputs": [
    {
     "data": {
      "text/plain": [
       "Text(0.5, 0, '$z$')"
      ]
     },
     "execution_count": 5,
     "metadata": {},
     "output_type": "execute_result"
    },
    {
     "data": {
      "image/png": "[encoded data removed]",
      "text/plain": [
       "<Figure size 432x288 with 1 Axes>"
      ]
     },
     "metadata": {
      "needs_background": "light"
     },
     "output_type": "display_data"
    }
   ],
   "source": [
    "plt.figure()\n",
    "plt.hist(red_galaxies['redshift'], histtype='step', bins=50)\n",
    "plt.xlabel('$z$')"
   ]
  },
  {
   "cell_type": "code",
   "execution_count": 6,
   "metadata": {},
   "outputs": [
    {
     "data": {
      "text/plain": [
       "Text(0.5, 0, '$m$')"
      ]
     },
     "execution_count": 6,
     "metadata": {},
     "output_type": "execute_result"
    },
    {
     "data": {
      "image/png": "[encoded data removed]",
      "text/plain": [
       "<Figure size 432x288 with 1 Axes>"
      ]
     },
     "metadata": {
      "needs_background": "light"
     },
     "output_type": "display_data"
    }
   ],
   "source": [
    "plt.figure()\n",
    "plt.hist(red_galaxies['magnitude'], histtype='step', bins=50)\n",
    "plt.xlabel('$m$')"
   ]
  },
  {
   "cell_type": "markdown",
   "metadata": {},
   "source": [
    "We also asked to generate physical sizes:\n",
    "```yaml\n",
    "    physical_size: !skypy.galaxy.size.early_type_lognormal\n",
    "      magnitude: $red_galaxies.magnitude\n",
    "      a: 0.60\n",
    "      b: -4.63\n",
    "      M0: -20.52\n",
    "      sigma1: 0.48\n",
    "      sigma2: 0.25\n",
    "```"
   ]
  },
  {
   "cell_type": "code",
   "execution_count": 7,
   "metadata": {},
   "outputs": [
    {
     "data": {
      "text/plain": [
       "Text(0.5, 0, '$d\\\\,$[kpc]')"
      ]
     },
     "execution_count": 7,
     "metadata": {},
     "output_type": "execute_result"
    },
    {
     "data": {
      "image/png": "[encoded data removed]",
      "text/plain": [
       "<Figure size 432x288 with 1 Axes>"
      ]
     },
     "metadata": {
      "needs_background": "light"
     },
     "output_type": "display_data"
    }
   ],
   "source": [
    "plt.figure()\n",
    "plt.hist(red_galaxies['physical_size'], histtype='step', bins=50)\n",
    "plt.xlabel('$d\\,$[kpc]')"
   ]
  },
  {
   "cell_type": "markdown",
   "metadata": {},
   "source": [
    "Ellipticities:\n",
    "```yaml\n",
    "    ellipticity: !skypy.galaxy.ellipticity.beta_ellipticity\n",
    "      e_ratio: 0.45\n",
    "      e_sum: 3.5\n",
    "      size: !len [$red_galaxies.redshift]\n",
    "```"
   ]
  },
  {
   "cell_type": "code",
   "execution_count": 8,
   "metadata": {},
   "outputs": [
    {
     "data": {
      "text/plain": [
       "Text(0.5, 0, '$|e|$')"
      ]
     },
     "execution_count": 8,
     "metadata": {},
     "output_type": "execute_result"
    },
    {
     "data": {
      "image/png": "[encoded data removed]",
      "text/plain": [
       "<Figure size 432x288 with 1 Axes>"
      ]
     },
     "metadata": {
      "needs_background": "light"
     },
     "output_type": "display_data"
    }
   ],
   "source": [
    "plt.figure()\n",
    "plt.hist(red_galaxies['ellipticity'], histtype='step', bins=50)\n",
    "plt.xlabel('$|e|$')"
   ]
  },
  {
   "cell_type": "markdown",
   "metadata": {},
   "source": [
    "Angular sizes:\n",
    "```yaml\n",
    "    angular_size: !skypy.galaxy.size.angular_size\n",
    "      physical_size: $red_galaxies.physical_size\n",
    "      redshift: $red_galaxies.redshift\n",
    "```"
   ]
  },
  {
   "cell_type": "code",
   "execution_count": 9,
   "metadata": {},
   "outputs": [
    {
     "data": {
      "text/plain": [
       "Text(0.5, 0, '$\\\\theta\\\\,$[rad]')"
      ]
     },
     "execution_count": 9,
     "metadata": {},
     "output_type": "execute_result"
    },
    {
     "data": {
      "image/png": "[encoded data removed]",
      "text/plain": [
       "<Figure size 432x288 with 1 Axes>"
      ]
     },
     "metadata": {
      "needs_background": "light"
     },
     "output_type": "display_data"
    }
   ],
   "source": [
    "plt.figure()\n",
    "plt.hist(red_galaxies['physical_size'], histtype='step', bins=50)\n",
    "plt.xlabel('$\\\\theta\\,$[rad]')"
   ]
  },
  {
   "cell_type": "markdown",
   "metadata": {},
   "source": [
    "And coefficients for the combination of spectral templates (which can be used to create an SED):\n",
    "```yaml\n",
    "    spectral_coefficients: !skypy.galaxy.spectrum.dirichlet_coefficients\n",
    "      alpha0: [2.461, 2.358, 2.568, 2.268, 2.402]\n",
    "      alpha1: [2.410, 2.340, 2.200, 2.540, 2.464]\n",
    "      weight: [3.84e+09, 1.57e+06, 3.91e+08, 4.66e+10, 3.03e+07]\n",
    "      redshift: $red_galaxies.redshift\n",
    "```"
   ]
  },
  {
   "cell_type": "code",
   "execution_count": 10,
   "metadata": {},
   "outputs": [
    {
     "data": {
      "text/plain": [
       "Text(0.5, 0, '$c_{i}$')"
      ]
     },
     "execution_count": 10,
     "metadata": {},
     "output_type": "execute_result"
    },
    {
     "data": {
      "image/png": "[encoded data removed]",
      "text/plain": [
       "<Figure size 432x288 with 1 Axes>"
      ]
     },
     "metadata": {
      "needs_background": "light"
     },
     "output_type": "display_data"
    }
   ],
   "source": [
    "plt.figure()\n",
    "for spc in red_galaxies['spectral_coefficients'].T:\n",
    "    plt.hist(spc, histtype='step', bins=50)\n",
    "plt.yscale('log')\n",
    "plt.xlabel('$c_{i}$')"
   ]
  }
 ],
 "metadata": {
  "kernelspec": {
   "display_name": "Python 3",
   "language": "python",
   "name": "python3"
  },
  "language_info": {
   "codemirror_mode": {
    "name": "ipython",
    "version": 3
   },
   "file_extension": ".py",
   "mimetype": "text/x-python",
   "name": "python",
   "nbconvert_exporter": "python",
   "pygments_lexer": "ipython3",
   "version": "3.8.5"
  }
 },
 "nbformat": 4,
 "nbformat_minor": 4
}
