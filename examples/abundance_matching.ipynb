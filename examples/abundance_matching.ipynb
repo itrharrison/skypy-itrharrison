{
 "cells": [
  {
   "cell_type": "code",
   "execution_count": 1,
   "metadata": {},
   "outputs": [],
   "source": [
    "import numpy as np\n",
    "from astropy.table import Table\n",
    "from matplotlib import pyplot as plt\n",
    "from matplotlib import rc\n",
    "\n",
    "rc('text', usetex=True)\n",
    "rc('font', family='serif')\n",
    "rc('font', size=14)"
   ]
  },
  {
   "cell_type": "markdown",
   "metadata": {},
   "source": [
    "## Abundance matching"
   ]
  },
  {
   "cell_type": "markdown",
   "metadata": {},
   "source": [
    "This example runs a number of SkyPy modules to create a catalogue of halos, sub-halos and galaxies which are matched together using the Vale & Ostriker ()\n",
    "\n",
    "Running the `abundance_matching` example:\n",
    "```bash\n",
    "$ skypy abundance_matching.yml --format fits\n",
    "```\n",
    "generates an output catalogue for us to load in:"
   ]
  },
  {
   "cell_type": "code",
   "execution_count": 2,
   "metadata": {},
   "outputs": [],
   "source": [
    "halos = Table.read('halos.fits')"
   ]
  },
  {
   "cell_type": "code",
   "execution_count": 3,
   "metadata": {},
   "outputs": [
    {
     "name": "stdout",
     "output_type": "stream",
     "text": [
      "<Table length=10000>\n",
      "      name        dtype \n",
      "---------------- -------\n",
      "       halo_mass float64\n",
      "      halo_group   int64\n",
      "     parent_halo    bool\n",
      "galaxy_magnitude float64\n",
      "\n"
     ]
    }
   ],
   "source": [
    "print(halos.info)"
   ]
  },
  {
   "cell_type": "markdown",
   "metadata": {},
   "source": [
    "Here we make a quick visual check of the columns.\n",
    "\n",
    "We have asked for halo masses over a given range (at the same time as halo groupings into sub and parent halos, and galaxy magnitudes):\n",
    "\n",
    "```yaml\n",
    "tables:\n",
    "  halos:\n",
    "    halo_mass, halo_group, parent_halo, galaxy_magnitude: !skypy.halo.abundance_matching.vale_ostriker\n",
    "      halo_kwargs:\n",
    "        m_min: 1.0E+9\n",
    "        m_max: 1.0E+12\n",
    "        resolution: 1000\n",
    "        size: 1000\n",
    "        wavenumber: $wavenumber\n",
    "        power_spectrum: $power_spectrum\n",
    "        growth_function: $growth_function\n",
    "        cosmology: $cosmology\n",
    "```"
   ]
  },
  {
   "cell_type": "code",
   "execution_count": 4,
   "metadata": {},
   "outputs": [
    {
     "data": {
      "text/plain": [
       "<matplotlib.legend.Legend at 0x11329c1c0>"
      ]
     },
     "execution_count": 4,
     "metadata": {},
     "output_type": "execute_result"
    },
    {
     "data": {
      "image/png": "[encoded data removed]",
      "text/plain": [
       "<Figure size 432x288 with 1 Axes>"
      ]
     },
     "metadata": {
      "needs_background": "light"
     },
     "output_type": "display_data"
    }
   ],
   "source": [
    "plt.figure()\n",
    "plt.hist(halos[halos['parent_halo']]['halo_mass'], histtype='step', bins=np.logspace(9,12,50), label='Parent halos')\n",
    "plt.hist(halos[~halos['parent_halo']]['halo_mass'], histtype='step', bins=np.logspace(9,12,50), label='Sub halos')\n",
    "plt.xlabel('$M\\,[M_{\\odot}]$')\n",
    "plt.xscale('log')\n",
    "plt.yscale('log')\n",
    "plt.legend()"
   ]
  },
  {
   "cell_type": "markdown",
   "metadata": {},
   "source": [
    "We also asked to generate galaxy magnitudes:\n",
    "```yaml\n",
    "      galaxy_kwargs:\n",
    "        redshift: $slice_z_mid\n",
    "        M_star: $M_star\n",
    "        alpha: -0.5\n",
    "        m_lim: 35\n",
    "        size: 1000\n",
    "```"
   ]
  },
  {
   "cell_type": "code",
   "execution_count": 5,
   "metadata": {},
   "outputs": [
    {
     "data": {
      "image/png": "[encoded data removed]",
      "text/plain": [
       "<Figure size 432x288 with 1 Axes>"
      ]
     },
     "metadata": {
      "needs_background": "light"
     },
     "output_type": "display_data"
    }
   ],
   "source": [
    "plt.figure()\n",
    "plt.hist(halos['galaxy_magnitude'], histtype='step', bins=50)\n",
    "plt.xlabel('$m$')\n",
    "plt.yscale('log')"
   ]
  },
  {
   "cell_type": "markdown",
   "metadata": {},
   "source": [
    "We can see the occupation numbers of each halo:"
   ]
  },
  {
   "cell_type": "code",
   "execution_count": 6,
   "metadata": {},
   "outputs": [
    {
     "data": {
      "text/plain": [
       "Text(0.5, 0, 'Group')"
      ]
     },
     "execution_count": 6,
     "metadata": {},
     "output_type": "execute_result"
    },
    {
     "data": {
      "image/png": "[encoded data removed]",
      "text/plain": [
       "<Figure size 432x288 with 1 Axes>"
      ]
     },
     "metadata": {
      "needs_background": "light"
     },
     "output_type": "display_data"
    }
   ],
   "source": [
    "plt.figure()\n",
    "plt.hist(halos['halo_group'], histtype='step', bins=50)\n",
    "plt.xlabel('Group')"
   ]
  },
  {
   "cell_type": "markdown",
   "metadata": {},
   "source": [
    "And see how the galaxy luminosity and halo mass are related:"
   ]
  },
  {
   "cell_type": "code",
   "execution_count": 7,
   "metadata": {},
   "outputs": [
    {
     "data": {
      "text/plain": [
       "Text(0, 0.5, '$m$')"
      ]
     },
     "execution_count": 7,
     "metadata": {},
     "output_type": "execute_result"
    },
    {
     "data": {
      "image/png": "[encoded data removed]",
      "text/plain": [
       "<Figure size 432x288 with 1 Axes>"
      ]
     },
     "metadata": {
      "needs_background": "light"
     },
     "output_type": "display_data"
    }
   ],
   "source": [
    "plt.figure()\n",
    "plt.hist2d(halos['halo_mass'], halos['galaxy_magnitude'], bins=[np.logspace(9,12,50), 50])\n",
    "plt.xscale('log')\n",
    "plt.xlabel('$M\\,[M_{\\odot}]$')\n",
    "plt.ylabel('$m$')"
   ]
  }
 ],
 "metadata": {
  "kernelspec": {
   "display_name": "Python 3",
   "language": "python",
   "name": "python3"
  },
  "language_info": {
   "codemirror_mode": {
    "name": "ipython",
    "version": 3
   },
   "file_extension": ".py",
   "mimetype": "text/x-python",
   "name": "python",
   "nbconvert_exporter": "python",
   "pygments_lexer": "ipython3",
   "version": "3.8.5"
  }
 },
 "nbformat": 4,
 "nbformat_minor": 4
}
